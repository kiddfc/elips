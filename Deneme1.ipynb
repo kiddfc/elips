{
 "cells": [
  {
   "cell_type": "markdown",
   "metadata": {},
   "source": [
    "\n",
    "ilk deneme, elips1.pt'de kayıtlı. 0.05 başarı oranı, çok fena\n",
    "ikinci denemede normalizasyonu kaldırdım. aynı sonuç, sorun var."
   ]
  },
  {
   "cell_type": "code",
   "execution_count": 1,
   "metadata": {},
   "outputs": [],
   "source": [
    "import torch\n",
    "import torch.nn as nn\n",
    "import torch.nn.functional as F\n",
    "from torch.utils.data import DataLoader\n",
    "from torchvision import datasets, transforms, models\n",
    "from torchvision.utils import make_grid\n",
    "\n",
    "import numpy as np\n",
    "import pandas as pd\n",
    "import matplotlib.pyplot as plt\n",
    "import os\n",
    "from PIL import Image\n",
    "from IPython.display import display\n",
    "\n",
    "import warnings\n",
    "warnings.filterwarnings('ignore')"
   ]
  },
  {
   "cell_type": "code",
   "execution_count": 11,
   "metadata": {},
   "outputs": [],
   "source": [
    "train_transform = transforms.Compose([\n",
    "#     transforms.RandomRotation(10),\n",
    "#     transforms.RandomHorizontalFlip(),\n",
    "#     transforms.Resize(224),\n",
    "#     transforms.CenterCrop(224),\n",
    "    transforms.ToTensor(),\n",
    "    transforms.Normalize([0.485, 0.456, 0.406], [0.229, 0.224, 0.225]) #  GÖZDEN GEÇECEK\n",
    "#     transforms.Normalize([0,0,0], [1,1,1])\n",
    "])"
   ]
  },
  {
   "cell_type": "code",
   "execution_count": 12,
   "metadata": {},
   "outputs": [],
   "source": [
    "dataset = datasets.ImageFolder('shapes_dataset_HR',transform=train_transform)\n",
    "torch.manual_seed(42)\n",
    "train_data, test_data = torch.utils.data.random_split(dataset, [9000, 1000])\n",
    "\n",
    "train_loader = DataLoader(train_data, batch_size = 10, shuffle = True)\n",
    "test_loader = DataLoader(test_data, batch_size = 10)"
   ]
  },
  {
   "cell_type": "code",
   "execution_count": 13,
   "metadata": {},
   "outputs": [
    {
     "data": {
      "text/plain": [
       "9000"
      ]
     },
     "execution_count": 13,
     "metadata": {},
     "output_type": "execute_result"
    }
   ],
   "source": [
    "len(train_data)"
   ]
  },
  {
   "cell_type": "code",
   "execution_count": 14,
   "metadata": {},
   "outputs": [
    {
     "data": {
      "text/plain": [
       "['0', '1', '2', '3', '4', '5']"
      ]
     },
     "execution_count": 14,
     "metadata": {},
     "output_type": "execute_result"
    }
   ],
   "source": [
    "train_data.dataset.classes"
   ]
  },
  {
   "cell_type": "code",
   "execution_count": 15,
   "metadata": {},
   "outputs": [],
   "source": [
    "class ConvolutionalNetwork(nn.Module):\n",
    "    \n",
    "    def __init__(self):\n",
    "        super().__init__()\n",
    "        self.conv1 = nn.Conv2d(3,6,7,1,3)\n",
    "        self.conv2 = nn.Conv2d(6,16,3,1,1)\n",
    "        self.conv3 = nn.Conv2d(16,384,1,1)\n",
    "        self.fc1 = nn.Linear(56*56*384,64)\n",
    "        self.fc2 = nn.Linear(64,6)\n",
    "#         self.fc2 = nn.Linear(120,84)\n",
    "#         self.fc3 = nn.Linear(84,6)\n",
    "        \n",
    "    def forward(self,X): # POOLING YERINE STRIDE KULLAN\n",
    "        X = self.conv1(X)\n",
    "        X = F.max_pool2d(X,2,2) #BATCH NORM LAYER'I AT RELU'DAN ÖNCE\n",
    "        X = self.conv2(X)\n",
    "        X = F.max_pool2d(X,2,2)\n",
    "        X = F.relu(self.conv3(X))\n",
    "        # X = F.max_pool2d(X,2,2)\n",
    "        X = X.view(-1,56*56*384)\n",
    "#         X = F.relu(self.fc1(X))\n",
    "        X = F.relu(self.fc1(X))\n",
    "        X = self.fc2(X)\n",
    "        \n",
    "        return F.log_softmax(X,dim=1)\n",
    "        "
   ]
  },
  {
   "cell_type": "code",
   "execution_count": 16,
   "metadata": {},
   "outputs": [],
   "source": [
    "torch.manual_seed(101)\n",
    "CNNmodel = ConvolutionalNetwork()\n",
    "criterion = nn.CrossEntropyLoss()\n",
    "optimizer = torch.optim.Adam(CNNmodel.parameters(), lr=0.001)"
   ]
  },
  {
   "cell_type": "code",
   "execution_count": 17,
   "metadata": {},
   "outputs": [
    {
     "data": {
      "text/plain": [
       "ConvolutionalNetwork(\n",
       "  (conv1): Conv2d(3, 6, kernel_size=(7, 7), stride=(1, 1), padding=(3, 3))\n",
       "  (conv2): Conv2d(6, 16, kernel_size=(3, 3), stride=(1, 1), padding=(1, 1))\n",
       "  (conv3): Conv2d(16, 384, kernel_size=(1, 1), stride=(1, 1))\n",
       "  (fc1): Linear(in_features=1204224, out_features=64, bias=True)\n",
       "  (fc2): Linear(in_features=64, out_features=6, bias=True)\n",
       ")"
      ]
     },
     "execution_count": 17,
     "metadata": {},
     "output_type": "execute_result"
    }
   ],
   "source": [
    "CNNmodel"
   ]
  },
  {
   "cell_type": "code",
   "execution_count": 18,
   "metadata": {},
   "outputs": [
    {
     "name": "stdout",
     "output_type": "stream",
     "text": [
      "Epoch 0 batch 300 loss: 1.7830266952514648 accuracy: 1.7766666666666666\n",
      "Epoch 0 batch 600 loss: 1.8065744638442993 accuracy: 1.745\n",
      "Epoch 0 batch 900 loss: 1.7993097305297852 accuracy: 1.68\n",
      "Epoch 1 batch 300 loss: 1.8044354915618896 accuracy: 1.8333333333333333\n",
      "Epoch 1 batch 600 loss: 1.8029155731201172 accuracy: 1.7683333333333333\n",
      "Epoch 1 batch 900 loss: 1.800292730331421 accuracy: 1.758888888888889\n",
      "Epoch 2 batch 300 loss: 1.7927939891815186 accuracy: 1.6433333333333333\n",
      "Epoch 2 batch 600 loss: 1.7836291790008545 accuracy: 1.7616666666666667\n",
      "Epoch 2 batch 900 loss: 1.7955796718597412 accuracy: 1.758888888888889\n",
      "Epoch 3 batch 300 loss: 1.779036521911621 accuracy: 1.7566666666666666\n",
      "Epoch 3 batch 600 loss: 1.773716926574707 accuracy: 1.7416666666666667\n",
      "Epoch 3 batch 900 loss: 1.800920844078064 accuracy: 1.758888888888889\n",
      "Epoch 4 batch 300 loss: 1.7907978296279907 accuracy: 1.76\n",
      "Epoch 4 batch 600 loss: 1.7869014739990234 accuracy: 1.75\n",
      "Epoch 4 batch 900 loss: 1.7963110208511353 accuracy: 1.758888888888889\n",
      "Epoch 5 batch 300 loss: 1.8133819103240967 accuracy: 1.85\n",
      "Epoch 5 batch 600 loss: 1.8010711669921875 accuracy: 1.76\n",
      "Epoch 5 batch 900 loss: 1.7900406122207642 accuracy: 1.758888888888889\n",
      "Epoch 6 batch 300 loss: 1.7790634632110596 accuracy: 1.7633333333333334\n",
      "Epoch 6 batch 600 loss: 1.7892885208129883 accuracy: 1.7283333333333333\n",
      "Epoch 6 batch 900 loss: 1.775787115097046 accuracy: 1.758888888888889\n",
      "Epoch 7 batch 300 loss: 1.784183144569397 accuracy: 1.8266666666666667\n",
      "Epoch 7 batch 600 loss: 1.778725028038025 accuracy: 1.7716666666666667\n",
      "Epoch 7 batch 900 loss: 1.8061672449111938 accuracy: 1.758888888888889\n",
      "Epoch 8 batch 300 loss: 1.8010536432266235 accuracy: 1.7233333333333334\n",
      "Epoch 8 batch 600 loss: 1.7967684268951416 accuracy: 1.7316666666666667\n",
      "Epoch 8 batch 900 loss: 1.7980411052703857 accuracy: 1.758888888888889\n",
      "Epoch 9 batch 300 loss: 1.777205228805542 accuracy: 1.7866666666666666\n",
      "Epoch 9 batch 600 loss: 1.7864773273468018 accuracy: 1.73\n",
      "Epoch 9 batch 900 loss: 1.7987734079360962 accuracy: 1.758888888888889\n",
      "Epoch 10 batch 300 loss: 1.7735061645507812 accuracy: 1.7966666666666666\n",
      "Epoch 10 batch 600 loss: 1.7857320308685303 accuracy: 1.78\n",
      "Epoch 10 batch 900 loss: 1.7921886444091797 accuracy: 1.758888888888889\n",
      "Epoch 11 batch 300 loss: 1.7949434518814087 accuracy: 1.7866666666666666\n",
      "Epoch 11 batch 600 loss: 1.7975819110870361 accuracy: 1.7933333333333332\n",
      "Epoch 11 batch 900 loss: 1.7979730367660522 accuracy: 1.758888888888889\n",
      "Epoch 12 batch 300 loss: 1.8092855215072632 accuracy: 1.81\n",
      "Epoch 12 batch 600 loss: 1.797903060913086 accuracy: 1.7516666666666667\n",
      "Epoch 12 batch 900 loss: 1.7995946407318115 accuracy: 1.758888888888889\n",
      "Epoch 13 batch 300 loss: 1.785391092300415 accuracy: 1.9033333333333333\n",
      "Epoch 13 batch 600 loss: 1.7867017984390259 accuracy: 1.7883333333333333\n",
      "Epoch 13 batch 900 loss: 1.7911036014556885 accuracy: 1.758888888888889\n",
      "Epoch 14 batch 300 loss: 1.7827116250991821 accuracy: 1.6433333333333333\n",
      "Epoch 14 batch 600 loss: 1.8094418048858643 accuracy: 1.725\n",
      "Epoch 14 batch 900 loss: 1.8095386028289795 accuracy: 1.758888888888889\n",
      "Epoch 15 batch 300 loss: 1.794250726699829 accuracy: 1.7333333333333334\n",
      "Epoch 15 batch 600 loss: 1.78662109375 accuracy: 1.7333333333333334\n",
      "Epoch 15 batch 900 loss: 1.788212537765503 accuracy: 1.758888888888889\n",
      "Epoch 16 batch 300 loss: 1.767744779586792 accuracy: 1.8433333333333333\n",
      "Epoch 16 batch 600 loss: 1.7951173782348633 accuracy: 1.7733333333333334\n",
      "Epoch 16 batch 900 loss: 1.788466215133667 accuracy: 1.758888888888889\n",
      "Epoch 17 batch 300 loss: 1.7756116390228271 accuracy: 1.7833333333333334\n",
      "Epoch 17 batch 600 loss: 1.7786033153533936 accuracy: 1.7833333333333334\n",
      "Epoch 17 batch 900 loss: 1.772129774093628 accuracy: 1.758888888888889\n",
      "Epoch 18 batch 300 loss: 1.7920233011245728 accuracy: 1.73\n",
      "Epoch 18 batch 600 loss: 1.780421257019043 accuracy: 1.7716666666666667\n",
      "Epoch 18 batch 900 loss: 1.7961761951446533 accuracy: 1.758888888888889\n",
      "Epoch 19 batch 300 loss: 1.7897056341171265 accuracy: 1.78\n",
      "Epoch 19 batch 600 loss: 1.7945235967636108 accuracy: 1.7766666666666666\n",
      "Epoch 19 batch 900 loss: 1.7961432933807373 accuracy: 1.758888888888889\n",
      "Epoch 20 batch 300 loss: 1.7989890575408936 accuracy: 1.82\n",
      "Epoch 20 batch 600 loss: 1.7890615463256836 accuracy: 1.7616666666666667\n",
      "Epoch 20 batch 900 loss: 1.7999166250228882 accuracy: 1.758888888888889\n",
      "Epoch 21 batch 300 loss: 1.7869033813476562 accuracy: 1.8666666666666667\n",
      "Epoch 21 batch 600 loss: 1.7876884937286377 accuracy: 1.8466666666666667\n",
      "Epoch 21 batch 900 loss: 1.7887401580810547 accuracy: 1.758888888888889\n",
      "Epoch 22 batch 300 loss: 1.7974618673324585 accuracy: 1.7866666666666666\n",
      "Epoch 22 batch 600 loss: 1.798498511314392 accuracy: 1.72\n",
      "Epoch 22 batch 900 loss: 1.791354775428772 accuracy: 1.758888888888889\n",
      "Epoch 23 batch 300 loss: 1.7897825241088867 accuracy: 1.7866666666666666\n",
      "Epoch 23 batch 600 loss: 1.7789195775985718 accuracy: 1.7616666666666667\n",
      "Epoch 23 batch 900 loss: 1.7792211771011353 accuracy: 1.758888888888889\n",
      "Epoch 24 batch 300 loss: 1.7982479333877563 accuracy: 1.87\n",
      "Epoch 24 batch 600 loss: 1.8070684671401978 accuracy: 1.8066666666666666\n",
      "Epoch 24 batch 900 loss: 1.7907829284667969 accuracy: 1.758888888888889\n",
      "Epoch 25 batch 300 loss: 1.79302978515625 accuracy: 1.7\n",
      "Epoch 25 batch 600 loss: 1.7858610153198242 accuracy: 1.7216666666666667\n",
      "Epoch 25 batch 900 loss: 1.7809667587280273 accuracy: 1.758888888888889\n",
      "Epoch 26 batch 300 loss: 1.7773710489273071 accuracy: 1.7766666666666666\n",
      "Epoch 26 batch 600 loss: 1.7825126647949219 accuracy: 1.765\n",
      "Epoch 26 batch 900 loss: 1.7923734188079834 accuracy: 1.758888888888889\n",
      "Epoch 27 batch 300 loss: 1.7930877208709717 accuracy: 1.7833333333333334\n",
      "Epoch 27 batch 600 loss: 1.7900651693344116 accuracy: 1.8166666666666667\n",
      "Epoch 27 batch 900 loss: 1.7905104160308838 accuracy: 1.758888888888889\n",
      "Epoch 28 batch 300 loss: 1.793358564376831 accuracy: 1.64\n",
      "Epoch 28 batch 600 loss: 1.8014671802520752 accuracy: 1.6616666666666666\n",
      "Epoch 28 batch 900 loss: 1.7788076400756836 accuracy: 1.7322222222222223\n",
      "Epoch 29 batch 300 loss: 1.7977054119110107 accuracy: 1.7166666666666666\n",
      "Epoch 29 batch 600 loss: 1.7925398349761963 accuracy: 1.7266666666666666\n",
      "Epoch 29 batch 900 loss: 1.8014764785766602 accuracy: 1.758888888888889\n",
      "total time = 1097.6672260959942 mins\n"
     ]
    }
   ],
   "source": [
    "import time\n",
    "start_time = time.time()\n",
    "\n",
    "epochs = 30\n",
    "\n",
    "# # LIMITS on num of batches, sadece daha hızlı bitsin diye, bize lazım değil\n",
    "# max_trn_batch = 800 # batch 10 images --> 8000 images\n",
    "# max_tst_batch = 300 # 3000 max images\n",
    "\n",
    "train_losses = []\n",
    "test_losses = []\n",
    "train_correct = []\n",
    "test_correct = []\n",
    "\n",
    "for i in range(epochs):\n",
    "    \n",
    "    trn_corr = 0\n",
    "    tst_corr = 0\n",
    "    \n",
    "    for b, (X_train, y_train) in enumerate(train_loader):\n",
    "        \n",
    "#         # optional limit number of batches\n",
    "#         if b == max_trn_batch:\n",
    "#             break\n",
    "            \n",
    "        b+=1\n",
    "        \n",
    "        y_pred = CNNmodel(X_train)\n",
    "        loss = criterion(y_pred, y_train)\n",
    "        \n",
    "        predicted = torch.max(y_pred.data, 1)[1]\n",
    "        batch_corr = (predicted == y_train).sum()\n",
    "        trn_corr += batch_corr\n",
    "        \n",
    "        optimizer.zero_grad()\n",
    "        loss.backward()\n",
    "        optimizer.step()\n",
    "        \n",
    "        if b%300 == 0:\n",
    "            acc = trn_corr.item()/b\n",
    "            print(f'Epoch {i} batch {b} loss: {loss.item()} accuracy: {acc}')\n",
    "    \n",
    "    train_losses.append(loss)\n",
    "    train_correct.append(trn_corr)\n",
    "    \n",
    "    with torch.no_grad():\n",
    "        for b, (X_test, y_test) in enumerate(test_loader):\n",
    "            \n",
    "#             if b == max_tst_batch:\n",
    "#                 break\n",
    "        \n",
    "            y_val = CNNmodel(X_test)\n",
    "            predicted = torch.max(y_val.data, 1)[1]\n",
    "            batch_corr = (predicted == y_test).sum()\n",
    "            tst_corr += batch_corr\n",
    "            \n",
    "    loss = criterion(y_val, y_test)\n",
    "    test_losses.append(loss)\n",
    "    test_correct.append(tst_corr)\n",
    "\n",
    "total_time = time.time() - start_time\n",
    "print(f'total time = {total_time/60} mins')"
   ]
  },
  {
   "cell_type": "code",
   "execution_count": 78,
   "metadata": {},
   "outputs": [],
   "source": [
    "torch.save(CNNmodel.state_dict(), 'elips2_3.pt')"
   ]
  },
  {
   "cell_type": "code",
   "execution_count": 79,
   "metadata": {},
   "outputs": [
    {
     "data": {
      "text/plain": [
       "<matplotlib.legend.Legend at 0x1770a2fd588>"
      ]
     },
     "execution_count": 79,
     "metadata": {},
     "output_type": "execute_result"
    },
    {
     "data": {
      "image/png": "[encoded data removed]",
      "text/plain": [
       "<Figure size 432x288 with 1 Axes>"
      ]
     },
     "metadata": {
      "needs_background": "light"
     },
     "output_type": "display_data"
    }
   ],
   "source": [
    "plt.plot(train_losses, label='training loss')\n",
    "plt.plot(test_losses, label='test loss')\n",
    "plt.legend()"
   ]
  },
  {
   "cell_type": "code",
   "execution_count": 80,
   "metadata": {},
   "outputs": [
    {
     "data": {
      "text/plain": [
       "<matplotlib.legend.Legend at 0x17707bf0348>"
      ]
     },
     "execution_count": 80,
     "metadata": {},
     "output_type": "execute_result"
    },
    {
     "data": {
      "image/png": "[encoded data removed]",
      "text/plain": [
       "<Figure size 432x288 with 1 Axes>"
      ]
     },
     "metadata": {
      "needs_background": "light"
     },
     "output_type": "display_data"
    }
   ],
   "source": [
    "plt.plot([t/80 for t in train_correct], label='training accuracy')\n",
    "plt.plot([t/30 for t in test_correct], label='validation accuracy')\n",
    "plt.legend()"
   ]
  },
  {
   "cell_type": "code",
   "execution_count": 81,
   "metadata": {},
   "outputs": [
    {
     "data": {
      "text/plain": [
       "0.05366666666666667"
      ]
     },
     "execution_count": 81,
     "metadata": {},
     "output_type": "execute_result"
    }
   ],
   "source": [
    "test_correct[-1].item()/3000"
   ]
  },
  {
   "cell_type": "code",
   "execution_count": null,
   "metadata": {},
   "outputs": [],
   "source": []
  }
 ],
 "metadata": {
  "kernelspec": {
   "display_name": "Python 3",
   "language": "python",
   "name": "python3"
  },
  "language_info": {
   "codemirror_mode": {
    "name": "ipython",
    "version": 3
   },
   "file_extension": ".py",
   "mimetype": "text/x-python",
   "name": "python",
   "nbconvert_exporter": "python",
   "pygments_lexer": "ipython3",
   "version": "3.7.6"
  }
 },
 "nbformat": 4,
 "nbformat_minor": 4
}
