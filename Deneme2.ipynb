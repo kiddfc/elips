{
 "cells": [
  {
   "cell_type": "markdown",
   "metadata": {},
   "source": [
    "\n",
    "ilk deneme, elips1.pt'de kayıtlı. 0.05 başarı oranı, çok fena\n",
    "ikinci denemede normalizasyonu kaldırdım. aynı sonuç, sorun var."
   ]
  },
  {
   "cell_type": "code",
   "execution_count": 76,
   "metadata": {},
   "outputs": [],
   "source": [
    "import torch\n",
    "import torch.nn as nn\n",
    "import torch.nn.functional as F\n",
    "from torch.utils.data import DataLoader\n",
    "from torchvision import datasets, transforms, models\n",
    "from torchvision.utils import make_grid\n",
    "\n",
    "import numpy as np\n",
    "import pandas as pd\n",
    "import matplotlib.pyplot as plt\n",
    "import os\n",
    "from PIL import Image\n",
    "from IPython.display import display\n",
    "\n",
    "import warnings\n",
    "warnings.filterwarnings('ignore')"
   ]
  },
  {
   "cell_type": "code",
   "execution_count": 77,
   "metadata": {},
   "outputs": [],
   "source": [
    "train_transform = transforms.Compose([\n",
    "#     transforms.RandomRotation(10),\n",
    "#     transforms.RandomHorizontalFlip(),\n",
    "#     transforms.Resize(224),\n",
    "#     transforms.CenterCrop(224),\n",
    "    transforms.ToTensor(),\n",
    "#     transforms.Normalize([0.485, 0.456, 0.406], [0.229, 0.224, 0.225]) #  GÖZDEN GEÇECEK\n",
    "    transforms.Normalize([0,0,0], [1,1,1])\n",
    "])"
   ]
  },
  {
   "cell_type": "code",
   "execution_count": 78,
   "metadata": {},
   "outputs": [],
   "source": [
    "dataset = datasets.ImageFolder('shapes_dataset_LR',transform=train_transform)\n",
    "torch.manual_seed(42)\n",
    "train_data, test_data = torch.utils.data.random_split(dataset, [9000, 1000])\n",
    "\n",
    "train_loader = DataLoader(train_data, batch_size = 10, shuffle = True)\n",
    "test_loader = DataLoader(test_data, batch_size = 10)"
   ]
  },
  {
   "cell_type": "code",
   "execution_count": 79,
   "metadata": {},
   "outputs": [
    {
     "data": {
      "text/plain": [
       "9000"
      ]
     },
     "execution_count": 79,
     "metadata": {},
     "output_type": "execute_result"
    }
   ],
   "source": [
    "len(train_data)"
   ]
  },
  {
   "cell_type": "code",
   "execution_count": 80,
   "metadata": {},
   "outputs": [
    {
     "data": {
      "text/plain": [
       "['0', '1', '2', '3', '4', '5']"
      ]
     },
     "execution_count": 80,
     "metadata": {},
     "output_type": "execute_result"
    }
   ],
   "source": [
    "train_data.dataset.classes"
   ]
  },
  {
   "cell_type": "code",
   "execution_count": 89,
   "metadata": {},
   "outputs": [],
   "source": [
    "class ConvolutionalNetwork(nn.Module):\n",
    "    \n",
    "    def __init__(self):\n",
    "        super().__init__()\n",
    "        self.conv1 = nn.Conv2d(3,64,3,2,1) # 32\n",
    "        self.bn1 = nn.BatchNorm2d(64)\n",
    "        self.conv2 = nn.Conv2d(64,128,3,2) # 15\n",
    "        self.bn2 = nn.BatchNorm2d(128)\n",
    "        self.conv3 = nn.Conv2d(128,256,3,2) # 7\n",
    "        self.bn3 = nn.BatchNorm2d(256)\n",
    "        self.conv4 = nn.Conv2d(256,512,3,2) # 3\n",
    "        self.bn4 = nn.BatchNorm2d(512)\n",
    "        self.conv5 = nn.Conv2d(512,6,3,1) # 3\n",
    "        self.bn5 = nn.BatchNorm2d(6)\n",
    "    def forward(self,X): # POOLING YERINE STRIDE KULLAN\n",
    "        X = self.conv1(X)\n",
    "        X = self.bn1(X)\n",
    "        X = F.relu(X)\n",
    "        \n",
    "        X = self.conv2(X)\n",
    "        X = self.bn2(X)\n",
    "        X = F.relu(X)\n",
    "        \n",
    "        X = self.conv3(X)\n",
    "        X = self.bn3(X)\n",
    "        X = F.relu(X)\n",
    "        \n",
    "        X = self.conv4(X)\n",
    "        X = self.bn4(X)\n",
    "        X = F.relu(X)\n",
    "        \n",
    "        X = self.conv5(X)\n",
    "        X = self.bn5(X)\n",
    "        X = F.relu(X)\n",
    "        X = X.view(-1,6)\n",
    "#         X = X.view(-1,56*56*384)\n",
    "        \n",
    "        return F.log_softmax(X,dim=1)\n",
    "        "
   ]
  },
  {
   "cell_type": "code",
   "execution_count": 90,
   "metadata": {},
   "outputs": [],
   "source": [
    "torch.manual_seed(101)\n",
    "CNNmodel = ConvolutionalNetwork()\n",
    "criterion = nn.CrossEntropyLoss()\n",
    "optimizer = torch.optim.Adam(CNNmodel.parameters(), lr=0.001)"
   ]
  },
  {
   "cell_type": "code",
   "execution_count": 91,
   "metadata": {},
   "outputs": [
    {
     "data": {
      "text/plain": [
       "ConvolutionalNetwork(\n",
       "  (conv1): Conv2d(3, 64, kernel_size=(3, 3), stride=(2, 2), padding=(1, 1))\n",
       "  (bn1): BatchNorm2d(64, eps=1e-05, momentum=0.1, affine=True, track_running_stats=True)\n",
       "  (conv2): Conv2d(64, 128, kernel_size=(3, 3), stride=(2, 2))\n",
       "  (bn2): BatchNorm2d(128, eps=1e-05, momentum=0.1, affine=True, track_running_stats=True)\n",
       "  (conv3): Conv2d(128, 256, kernel_size=(3, 3), stride=(2, 2))\n",
       "  (bn3): BatchNorm2d(256, eps=1e-05, momentum=0.1, affine=True, track_running_stats=True)\n",
       "  (conv4): Conv2d(256, 512, kernel_size=(3, 3), stride=(2, 2))\n",
       "  (bn4): BatchNorm2d(512, eps=1e-05, momentum=0.1, affine=True, track_running_stats=True)\n",
       "  (conv5): Conv2d(512, 6, kernel_size=(3, 3), stride=(1, 1))\n",
       "  (bn5): BatchNorm2d(6, eps=1e-05, momentum=0.1, affine=True, track_running_stats=True)\n",
       ")"
      ]
     },
     "execution_count": 91,
     "metadata": {},
     "output_type": "execute_result"
    }
   ],
   "source": [
    "CNNmodel"
   ]
  },
  {
   "cell_type": "code",
   "execution_count": 92,
   "metadata": {},
   "outputs": [
    {
     "name": "stdout",
     "output_type": "stream",
     "text": [
      "Epoch 0 batch 300 loss: 1.664625883102417 accuracy: 2.9\n",
      "Epoch 0 batch 600 loss: 1.3863534927368164 accuracy: 3.1616666666666666\n",
      "Epoch 0 batch 900 loss: 1.3724545240402222 accuracy: 3.3555555555555556\n",
      "Epoch 1 batch 300 loss: 1.5579626560211182 accuracy: 3.82\n",
      "Epoch 1 batch 600 loss: 1.47854745388031 accuracy: 3.845\n",
      "Epoch 1 batch 900 loss: 1.5470502376556396 accuracy: 3.8433333333333333\n",
      "Epoch 2 batch 300 loss: 1.3318063020706177 accuracy: 3.8766666666666665\n",
      "Epoch 2 batch 600 loss: 1.3814092874526978 accuracy: 3.955\n",
      "Epoch 2 batch 900 loss: 1.3505380153656006 accuracy: 3.9411111111111112\n",
      "Epoch 3 batch 300 loss: 1.4097610712051392 accuracy: 4.1466666666666665\n",
      "Epoch 3 batch 600 loss: 1.2925995588302612 accuracy: 4.1066666666666665\n",
      "Epoch 3 batch 900 loss: 1.642014503479004 accuracy: 4.116666666666666\n",
      "Epoch 4 batch 300 loss: 1.23699152469635 accuracy: 4.3566666666666665\n",
      "Epoch 4 batch 600 loss: 1.1259150505065918 accuracy: 4.253333333333333\n",
      "Epoch 4 batch 900 loss: 1.303540587425232 accuracy: 4.248888888888889\n",
      "Epoch 5 batch 300 loss: 1.6588951349258423 accuracy: 4.376666666666667\n",
      "Epoch 5 batch 600 loss: 1.4635648727416992 accuracy: 4.363333333333333\n",
      "Epoch 5 batch 900 loss: 1.2754247188568115 accuracy: 4.373333333333333\n",
      "Epoch 6 batch 300 loss: 1.3730173110961914 accuracy: 4.68\n",
      "Epoch 6 batch 600 loss: 1.763777494430542 accuracy: 4.73\n",
      "Epoch 6 batch 900 loss: 1.0498194694519043 accuracy: 4.703333333333333\n",
      "Epoch 7 batch 300 loss: 1.1959036588668823 accuracy: 4.9\n",
      "Epoch 7 batch 600 loss: 1.132206678390503 accuracy: 4.826666666666667\n",
      "Epoch 7 batch 900 loss: 0.9931901693344116 accuracy: 4.85\n",
      "Epoch 8 batch 300 loss: 0.9336279034614563 accuracy: 5.553333333333334\n",
      "Epoch 8 batch 600 loss: 1.0337094068527222 accuracy: 5.391666666666667\n",
      "Epoch 8 batch 900 loss: 1.4850959777832031 accuracy: 5.375555555555556\n",
      "Epoch 9 batch 300 loss: 1.1197646856307983 accuracy: 6.066666666666666\n",
      "Epoch 9 batch 600 loss: 1.0642855167388916 accuracy: 5.906666666666666\n",
      "Epoch 9 batch 900 loss: 0.9498772621154785 accuracy: 5.885555555555555\n",
      "Epoch 10 batch 300 loss: 1.174019694328308 accuracy: 6.703333333333333\n",
      "Epoch 10 batch 600 loss: 1.151543378829956 accuracy: 6.628333333333333\n",
      "Epoch 10 batch 900 loss: 1.2107360363006592 accuracy: 6.516666666666667\n",
      "Epoch 11 batch 300 loss: 0.7459389567375183 accuracy: 7.38\n",
      "Epoch 11 batch 600 loss: 0.6796827912330627 accuracy: 7.2716666666666665\n",
      "Epoch 11 batch 900 loss: 0.7562658190727234 accuracy: 7.1866666666666665\n",
      "Epoch 12 batch 300 loss: 0.826394259929657 accuracy: 8.023333333333333\n",
      "Epoch 12 batch 600 loss: 0.3535330295562744 accuracy: 7.956666666666667\n",
      "Epoch 12 batch 900 loss: 0.52874356508255 accuracy: 7.887777777777778\n",
      "Epoch 13 batch 300 loss: 0.4207088053226471 accuracy: 8.48\n",
      "Epoch 13 batch 600 loss: 0.3844248056411743 accuracy: 8.368333333333334\n",
      "Epoch 13 batch 900 loss: 1.1081100702285767 accuracy: 8.312222222222223\n",
      "Epoch 14 batch 300 loss: 0.4074154496192932 accuracy: 8.663333333333334\n",
      "Epoch 14 batch 600 loss: 0.423615038394928 accuracy: 8.635\n",
      "Epoch 14 batch 900 loss: 0.6435904502868652 accuracy: 8.584444444444445\n",
      "Epoch 15 batch 300 loss: 0.40759411454200745 accuracy: 8.84\n",
      "Epoch 15 batch 600 loss: 0.21944817900657654 accuracy: 8.821666666666667\n",
      "Epoch 15 batch 900 loss: 0.6274052262306213 accuracy: 8.811111111111112\n",
      "Epoch 16 batch 300 loss: 0.4241238534450531 accuracy: 8.813333333333333\n",
      "Epoch 16 batch 600 loss: 0.2156643122434616 accuracy: 8.775\n",
      "Epoch 16 batch 900 loss: 0.6434674263000488 accuracy: 8.752222222222223\n",
      "Epoch 17 batch 300 loss: 0.08760814368724823 accuracy: 8.836666666666666\n",
      "Epoch 17 batch 600 loss: 0.31960734724998474 accuracy: 8.906666666666666\n",
      "Epoch 17 batch 900 loss: 0.4341709613800049 accuracy: 8.893333333333333\n",
      "Epoch 18 batch 300 loss: 0.1545790284872055 accuracy: 9.06\n",
      "Epoch 18 batch 600 loss: 0.26659125089645386 accuracy: 9.04\n",
      "Epoch 18 batch 900 loss: 0.5775467157363892 accuracy: 9.002222222222223\n",
      "Epoch 19 batch 300 loss: 0.25085943937301636 accuracy: 8.946666666666667\n",
      "Epoch 19 batch 600 loss: 0.5819112062454224 accuracy: 8.945\n",
      "Epoch 19 batch 900 loss: 0.1727266013622284 accuracy: 8.96888888888889\n",
      "Epoch 20 batch 300 loss: 0.09183742851018906 accuracy: 9.116666666666667\n",
      "Epoch 20 batch 600 loss: 0.09565980732440948 accuracy: 9.068333333333333\n",
      "Epoch 20 batch 900 loss: 0.09602146595716476 accuracy: 9.061111111111112\n",
      "Epoch 21 batch 300 loss: 0.07603174448013306 accuracy: 9.033333333333333\n",
      "Epoch 21 batch 600 loss: 0.17835557460784912 accuracy: 8.998333333333333\n",
      "Epoch 21 batch 900 loss: 0.025593196973204613 accuracy: 9.01\n",
      "Epoch 22 batch 300 loss: 0.3893890976905823 accuracy: 9.16\n",
      "Epoch 22 batch 600 loss: 0.3532501757144928 accuracy: 9.11\n",
      "Epoch 22 batch 900 loss: 0.16785156726837158 accuracy: 9.086666666666666\n",
      "Epoch 23 batch 300 loss: 0.6010892987251282 accuracy: 9.14\n",
      "Epoch 23 batch 600 loss: 0.5247358083724976 accuracy: 9.145\n",
      "Epoch 23 batch 900 loss: 0.23981873691082 accuracy: 9.117777777777778\n",
      "Epoch 24 batch 300 loss: 0.2334912121295929 accuracy: 9.223333333333333\n",
      "Epoch 24 batch 600 loss: 0.09375976026058197 accuracy: 9.186666666666667\n",
      "Epoch 24 batch 900 loss: 0.19483084976673126 accuracy: 9.19\n",
      "Epoch 25 batch 300 loss: 0.09551528096199036 accuracy: 9.13\n",
      "Epoch 25 batch 600 loss: 0.24423524737358093 accuracy: 9.186666666666667\n",
      "Epoch 25 batch 900 loss: 0.02326171286404133 accuracy: 9.204444444444444\n",
      "Epoch 26 batch 300 loss: 0.20863154530525208 accuracy: 9.34\n",
      "Epoch 26 batch 600 loss: 0.13102801144123077 accuracy: 9.276666666666667\n",
      "Epoch 26 batch 900 loss: 0.8210455775260925 accuracy: 9.221111111111112\n",
      "Epoch 27 batch 300 loss: 0.027106473222374916 accuracy: 9.243333333333334\n",
      "Epoch 27 batch 600 loss: 0.27819710969924927 accuracy: 9.163333333333334\n",
      "Epoch 27 batch 900 loss: 0.16184574365615845 accuracy: 9.168888888888889\n",
      "Epoch 28 batch 300 loss: 0.10087697207927704 accuracy: 9.263333333333334\n",
      "Epoch 28 batch 600 loss: 0.07428273558616638 accuracy: 9.27\n",
      "Epoch 28 batch 900 loss: 0.57798832654953 accuracy: 9.236666666666666\n",
      "Epoch 29 batch 300 loss: 0.2206908017396927 accuracy: 9.166666666666666\n",
      "Epoch 29 batch 600 loss: 0.13836291432380676 accuracy: 9.128333333333334\n",
      "Epoch 29 batch 900 loss: 0.27306875586509705 accuracy: 9.177777777777777\n",
      "total time = 99.63000843524932 mins\n"
     ]
    }
   ],
   "source": [
    "import time\n",
    "start_time = time.time()\n",
    "\n",
    "epochs = 30\n",
    "\n",
    "# # LIMITS on num of batches, sadece daha hızlı bitsin diye, bize lazım değil\n",
    "# max_trn_batch = 800 # batch 10 images --> 8000 images\n",
    "# max_tst_batch = 300 # 3000 max images\n",
    "\n",
    "train_losses = []\n",
    "test_losses = []\n",
    "train_correct = []\n",
    "test_correct = []\n",
    "\n",
    "for i in range(epochs):\n",
    "    \n",
    "    trn_corr = 0\n",
    "    tst_corr = 0\n",
    "    \n",
    "    for b, (X_train, y_train) in enumerate(train_loader):\n",
    "        \n",
    "#         # optional limit number of batches\n",
    "#         if b == max_trn_batch:\n",
    "#             break\n",
    "            \n",
    "        b+=1\n",
    "        \n",
    "        y_pred = CNNmodel(X_train)\n",
    "        loss = criterion(y_pred, y_train)\n",
    "        \n",
    "        predicted = torch.max(y_pred.data, 1)[1]\n",
    "        batch_corr = (predicted == y_train).sum()\n",
    "        trn_corr += batch_corr\n",
    "        \n",
    "        optimizer.zero_grad()\n",
    "        loss.backward()\n",
    "        optimizer.step()\n",
    "        \n",
    "        if b%300 == 0:\n",
    "            acc = trn_corr.item()/b\n",
    "            print(f'Epoch {i} batch {b} loss: {loss.item()} accuracy: {acc}')\n",
    "    \n",
    "    train_losses.append(loss)\n",
    "    train_correct.append(trn_corr)\n",
    "    \n",
    "    with torch.no_grad():\n",
    "        for b, (X_test, y_test) in enumerate(test_loader):\n",
    "            \n",
    "#             if b == max_tst_batch:\n",
    "#                 break\n",
    "        \n",
    "            y_val = CNNmodel(X_test)\n",
    "            predicted = torch.max(y_val.data, 1)[1]\n",
    "            batch_corr = (predicted == y_test).sum()\n",
    "            tst_corr += batch_corr\n",
    "            \n",
    "    loss = criterion(y_val, y_test)\n",
    "    test_losses.append(loss)\n",
    "    test_correct.append(tst_corr)\n",
    "\n",
    "total_time = time.time() - start_time\n",
    "print(f'total time = {total_time/60} mins')"
   ]
  },
  {
   "cell_type": "code",
   "execution_count": 93,
   "metadata": {},
   "outputs": [],
   "source": [
    "torch.save(CNNmodel.state_dict(), 'elips_2_2.pt')"
   ]
  },
  {
   "cell_type": "code",
   "execution_count": 94,
   "metadata": {},
   "outputs": [
    {
     "data": {
      "text/plain": [
       "<matplotlib.legend.Legend at 0x1f9ad754488>"
      ]
     },
     "execution_count": 94,
     "metadata": {},
     "output_type": "execute_result"
    },
    {
     "data": {
      "image/png": "[encoded data removed]",
      "text/plain": [
       "<Figure size 432x288 with 1 Axes>"
      ]
     },
     "metadata": {
      "needs_background": "light"
     },
     "output_type": "display_data"
    }
   ],
   "source": [
    "plt.plot(train_losses, label='training loss')\n",
    "plt.plot(test_losses, label='test loss')\n",
    "plt.legend()"
   ]
  },
  {
   "cell_type": "code",
   "execution_count": 95,
   "metadata": {},
   "outputs": [
    {
     "data": {
      "text/plain": [
       "[tensor(340),\n",
       " tensor(344),\n",
       " tensor(364),\n",
       " tensor(370),\n",
       " tensor(383),\n",
       " tensor(405),\n",
       " tensor(408),\n",
       " tensor(397),\n",
       " tensor(396),\n",
       " tensor(385),\n",
       " tensor(370),\n",
       " tensor(354),\n",
       " tensor(366),\n",
       " tensor(354),\n",
       " tensor(348),\n",
       " tensor(326),\n",
       " tensor(355),\n",
       " tensor(335),\n",
       " tensor(361),\n",
       " tensor(365),\n",
       " tensor(357),\n",
       " tensor(356),\n",
       " tensor(357),\n",
       " tensor(377),\n",
       " tensor(362),\n",
       " tensor(343),\n",
       " tensor(357),\n",
       " tensor(358),\n",
       " tensor(360),\n",
       " tensor(360)]"
      ]
     },
     "execution_count": 95,
     "metadata": {},
     "output_type": "execute_result"
    }
   ],
   "source": [
    "[t for t in test_correct]"
   ]
  },
  {
   "cell_type": "code",
   "execution_count": 96,
   "metadata": {},
   "outputs": [
    {
     "data": {
      "text/plain": [
       "<matplotlib.legend.Legend at 0x1f9b0009488>"
      ]
     },
     "execution_count": 96,
     "metadata": {},
     "output_type": "execute_result"
    },
    {
     "data": {
      "image/png": "[encoded data removed]",
      "text/plain": [
       "<Figure size 432x288 with 1 Axes>"
      ]
     },
     "metadata": {
      "needs_background": "light"
     },
     "output_type": "display_data"
    }
   ],
   "source": [
    "plt.plot([t/90 for t in train_correct], label='training accuracy')\n",
    "plt.plot([t/10 for t in test_correct], label='validation accuracy')\n",
    "plt.legend()"
   ]
  },
  {
   "cell_type": "code",
   "execution_count": 97,
   "metadata": {},
   "outputs": [
    {
     "data": {
      "text/plain": [
       "0.36"
      ]
     },
     "execution_count": 97,
     "metadata": {},
     "output_type": "execute_result"
    }
   ],
   "source": [
    "test_correct[-1].item()/1000"
   ]
  },
  {
   "cell_type": "code",
   "execution_count": null,
   "metadata": {},
   "outputs": [],
   "source": []
  }
 ],
 "metadata": {
  "kernelspec": {
   "display_name": "Python 3",
   "language": "python",
   "name": "python3"
  },
  "language_info": {
   "codemirror_mode": {
    "name": "ipython",
    "version": 3
   },
   "file_extension": ".py",
   "mimetype": "text/x-python",
   "name": "python",
   "nbconvert_exporter": "python",
   "pygments_lexer": "ipython3",
   "version": "3.7.6"
  }
 },
 "nbformat": 4,
 "nbformat_minor": 4
}
